{
 "cells": [
  {
   "cell_type": "markdown",
   "id": "ec6fb1d6-c978-4ec5-a3ca-0bbe0bd3cf4f",
   "metadata": {},
   "source": [
    "# Marvel Movies Dataset - Movie Runtime"
   ]
  },
  {
   "cell_type": "markdown",
   "id": "362ff67a-c45f-40b8-87e2-2695de306a2a",
   "metadata": {
    "papermill": {
     "duration": 0.044649,
     "end_time": "2022-05-04T13:03:28.439621",
     "exception": false,
     "start_time": "2022-05-04T13:03:28.394972",
     "status": "completed"
    },
    "tags": []
   },
   "source": [
    "## Load required packages"
   ]
  },
  {
   "cell_type": "code",
   "execution_count": 1,
   "id": "f3b860cf-04f6-443f-9e82-afb4b75d5b65",
   "metadata": {
    "papermill": {
     "duration": 1.141687,
     "end_time": "2022-05-04T13:03:29.626268",
     "exception": false,
     "start_time": "2022-05-04T13:03:28.484581",
     "status": "completed"
    },
    "tags": []
   },
   "outputs": [],
   "source": [
    "# MARVEL MOVIES DATASET ANALYSIS\n",
    "import numpy as np\n",
    "import matplotlib.pyplot as plt\n",
    "import pandas as pd\n",
    "import seaborn as sns"
   ]
  },
  {
   "cell_type": "markdown",
   "id": "e230f5cb-9862-423c-8ad1-6990167ecc54",
   "metadata": {
    "papermill": {
     "duration": 0.043105,
     "end_time": "2022-05-04T13:03:29.723432",
     "exception": false,
     "start_time": "2022-05-04T13:03:29.680327",
     "status": "completed"
    },
    "tags": []
   },
   "source": [
    "## Load Data"
   ]
  },
  {
   "cell_type": "code",
   "execution_count": 2,
   "id": "f728732e-efcc-4f10-a1d1-a99cae82f62d",
   "metadata": {
    "papermill": {
     "duration": 0.06523,
     "end_time": "2022-05-04T13:03:29.834566",
     "exception": false,
     "start_time": "2022-05-04T13:03:29.769336",
     "status": "completed"
    },
    "tags": []
   },
   "outputs": [],
   "source": [
    "marvel_movies = pd.read_csv('mcu_box_office.csv')"
   ]
  },
  {
   "cell_type": "markdown",
   "id": "24deebe9-73d0-40a5-a708-f17da0ae3364",
   "metadata": {
    "papermill": {
     "duration": 0.044022,
     "end_time": "2022-05-04T13:03:29.922248",
     "exception": false,
     "start_time": "2022-05-04T13:03:29.878226",
     "status": "completed"
    },
    "tags": []
   },
   "source": [
    "## Data checks"
   ]
  },
  {
   "cell_type": "markdown",
   "id": "7eed41dc-efec-411f-b784-9494b0a49e07",
   "metadata": {
    "papermill": {
     "duration": 0.042947,
     "end_time": "2022-05-04T13:03:30.009294",
     "exception": false,
     "start_time": "2022-05-04T13:03:29.966347",
     "status": "completed"
    },
    "tags": []
   },
   "source": [
    "#### How Many Rows and Columns does the data have?"
   ]
  },
  {
   "cell_type": "code",
   "execution_count": 3,
   "id": "ea83295e-a730-4fad-933b-e1637cbdf447",
   "metadata": {
    "papermill": {
     "duration": 0.054284,
     "end_time": "2022-05-04T13:03:30.107251",
     "exception": false,
     "start_time": "2022-05-04T13:03:30.052967",
     "status": "completed"
    },
    "tags": []
   },
   "outputs": [
    {
     "data": {
      "text/plain": [
       "(27, 10)"
      ]
     },
     "execution_count": 3,
     "metadata": {},
     "output_type": "execute_result"
    }
   ],
   "source": [
    "marvel_movies.shape"
   ]
  },
  {
   "cell_type": "markdown",
   "id": "d9f94dea-1408-4e40-956a-49481ab27d5f",
   "metadata": {
    "papermill": {
     "duration": 0.04426,
     "end_time": "2022-05-04T13:03:30.197931",
     "exception": false,
     "start_time": "2022-05-04T13:03:30.153671",
     "status": "completed"
    },
    "tags": []
   },
   "source": [
    "#### What are the column names?"
   ]
  },
  {
   "cell_type": "code",
   "execution_count": 4,
   "id": "5bbc69e7-6fed-4d26-bce6-2c356a54e1bc",
   "metadata": {
    "papermill": {
     "duration": 0.05262,
     "end_time": "2022-05-04T13:03:30.294962",
     "exception": false,
     "start_time": "2022-05-04T13:03:30.242342",
     "status": "completed"
    },
    "tags": []
   },
   "outputs": [
    {
     "data": {
      "text/plain": [
       "Index(['movie_title', 'mcu_phase', 'release_date', 'tomato_meter',\n",
       "       'audience_score', 'movie_duration', 'production_budget',\n",
       "       'opening_weekend', 'domestic_box_office', 'worldwide_box_office'],\n",
       "      dtype='object')"
      ]
     },
     "execution_count": 4,
     "metadata": {},
     "output_type": "execute_result"
    }
   ],
   "source": [
    "marvel_movies.columns"
   ]
  },
  {
   "cell_type": "markdown",
   "id": "d630b72a-05fd-4cf3-acc9-fb81407fa636",
   "metadata": {
    "papermill": {
     "duration": 0.044598,
     "end_time": "2022-05-04T13:03:30.384286",
     "exception": false,
     "start_time": "2022-05-04T13:03:30.339688",
     "status": "completed"
    },
    "tags": []
   },
   "source": [
    "#### Look at the first 5 rows"
   ]
  },
  {
   "cell_type": "code",
   "execution_count": 5,
   "id": "6b38cc1b-0a12-4b9c-86c8-9dad363bd9ec",
   "metadata": {
    "papermill": {
     "duration": 0.067439,
     "end_time": "2022-05-04T13:03:30.495733",
     "exception": false,
     "start_time": "2022-05-04T13:03:30.428294",
     "status": "completed"
    },
    "tags": []
   },
   "outputs": [
    {
     "data": {
      "text/html": [
       "<div>\n",
       "<style scoped>\n",
       "    .dataframe tbody tr th:only-of-type {\n",
       "        vertical-align: middle;\n",
       "    }\n",
       "\n",
       "    .dataframe tbody tr th {\n",
       "        vertical-align: top;\n",
       "    }\n",
       "\n",
       "    .dataframe thead th {\n",
       "        text-align: right;\n",
       "    }\n",
       "</style>\n",
       "<table border=\"1\" class=\"dataframe\">\n",
       "  <thead>\n",
       "    <tr style=\"text-align: right;\">\n",
       "      <th></th>\n",
       "      <th>movie_title</th>\n",
       "      <th>mcu_phase</th>\n",
       "      <th>release_date</th>\n",
       "      <th>tomato_meter</th>\n",
       "      <th>audience_score</th>\n",
       "      <th>movie_duration</th>\n",
       "      <th>production_budget</th>\n",
       "      <th>opening_weekend</th>\n",
       "      <th>domestic_box_office</th>\n",
       "      <th>worldwide_box_office</th>\n",
       "    </tr>\n",
       "  </thead>\n",
       "  <tbody>\n",
       "    <tr>\n",
       "      <th>0</th>\n",
       "      <td>Iron Man</td>\n",
       "      <td>1</td>\n",
       "      <td>5/2/2008</td>\n",
       "      <td>94</td>\n",
       "      <td>91</td>\n",
       "      <td>126</td>\n",
       "      <td>186,000,000</td>\n",
       "      <td>102,118,668</td>\n",
       "      <td>318,604,126</td>\n",
       "      <td>585,171,547</td>\n",
       "    </tr>\n",
       "    <tr>\n",
       "      <th>1</th>\n",
       "      <td>The Incredible Hulk</td>\n",
       "      <td>1</td>\n",
       "      <td>6/13/2008</td>\n",
       "      <td>67</td>\n",
       "      <td>70</td>\n",
       "      <td>112</td>\n",
       "      <td>137,500,000</td>\n",
       "      <td>55,414,050</td>\n",
       "      <td>134,806,913</td>\n",
       "      <td>265,573,859</td>\n",
       "    </tr>\n",
       "    <tr>\n",
       "      <th>2</th>\n",
       "      <td>Iron Man 2</td>\n",
       "      <td>1</td>\n",
       "      <td>5/7/2010</td>\n",
       "      <td>72</td>\n",
       "      <td>71</td>\n",
       "      <td>124</td>\n",
       "      <td>170,000,000</td>\n",
       "      <td>128,122,480</td>\n",
       "      <td>312,433,331</td>\n",
       "      <td>621,156,389</td>\n",
       "    </tr>\n",
       "    <tr>\n",
       "      <th>3</th>\n",
       "      <td>Thor</td>\n",
       "      <td>1</td>\n",
       "      <td>5/6/2011</td>\n",
       "      <td>77</td>\n",
       "      <td>76</td>\n",
       "      <td>113</td>\n",
       "      <td>150,000,000</td>\n",
       "      <td>65,723,338</td>\n",
       "      <td>181,030,624</td>\n",
       "      <td>449,326,618</td>\n",
       "    </tr>\n",
       "    <tr>\n",
       "      <th>4</th>\n",
       "      <td>Captain America: The First Avenger</td>\n",
       "      <td>1</td>\n",
       "      <td>7/22/2011</td>\n",
       "      <td>79</td>\n",
       "      <td>75</td>\n",
       "      <td>124</td>\n",
       "      <td>140,000,000</td>\n",
       "      <td>65,058,524</td>\n",
       "      <td>176,654,505</td>\n",
       "      <td>370,569,776</td>\n",
       "    </tr>\n",
       "  </tbody>\n",
       "</table>\n",
       "</div>"
      ],
      "text/plain": [
       "                          movie_title  mcu_phase release_date  tomato_meter  \\\n",
       "0                            Iron Man          1     5/2/2008            94   \n",
       "1                 The Incredible Hulk          1    6/13/2008            67   \n",
       "2                          Iron Man 2          1     5/7/2010            72   \n",
       "3                                Thor          1     5/6/2011            77   \n",
       "4  Captain America: The First Avenger          1    7/22/2011            79   \n",
       "\n",
       "   audience_score  movie_duration production_budget opening_weekend  \\\n",
       "0              91             126       186,000,000     102,118,668   \n",
       "1              70             112       137,500,000      55,414,050   \n",
       "2              71             124       170,000,000     128,122,480   \n",
       "3              76             113       150,000,000      65,723,338   \n",
       "4              75             124       140,000,000      65,058,524   \n",
       "\n",
       "  domestic_box_office worldwide_box_office  \n",
       "0         318,604,126          585,171,547  \n",
       "1         134,806,913          265,573,859  \n",
       "2         312,433,331          621,156,389  \n",
       "3         181,030,624          449,326,618  \n",
       "4         176,654,505          370,569,776  "
      ]
     },
     "execution_count": 5,
     "metadata": {},
     "output_type": "execute_result"
    }
   ],
   "source": [
    "marvel_movies.head()"
   ]
  },
  {
   "cell_type": "markdown",
   "id": "d8098f31-4ee0-4e4f-8abf-e4d25e84f875",
   "metadata": {
    "papermill": {
     "duration": 0.044248,
     "end_time": "2022-05-04T13:03:30.585687",
     "exception": false,
     "start_time": "2022-05-04T13:03:30.541439",
     "status": "completed"
    },
    "tags": []
   },
   "source": [
    "#### Describe the various values, what are the maximum and minimum values?"
   ]
  },
  {
   "cell_type": "code",
   "execution_count": 6,
   "id": "4683e257-fe58-4357-95a3-f8e12ec66c9f",
   "metadata": {
    "papermill": {
     "duration": 0.08117,
     "end_time": "2022-05-04T13:03:30.711714",
     "exception": false,
     "start_time": "2022-05-04T13:03:30.630544",
     "status": "completed"
    },
    "tags": []
   },
   "outputs": [
    {
     "data": {
      "text/html": [
       "<div>\n",
       "<style scoped>\n",
       "    .dataframe tbody tr th:only-of-type {\n",
       "        vertical-align: middle;\n",
       "    }\n",
       "\n",
       "    .dataframe tbody tr th {\n",
       "        vertical-align: top;\n",
       "    }\n",
       "\n",
       "    .dataframe thead th {\n",
       "        text-align: right;\n",
       "    }\n",
       "</style>\n",
       "<table border=\"1\" class=\"dataframe\">\n",
       "  <thead>\n",
       "    <tr style=\"text-align: right;\">\n",
       "      <th></th>\n",
       "      <th>mcu_phase</th>\n",
       "      <th>tomato_meter</th>\n",
       "      <th>audience_score</th>\n",
       "      <th>movie_duration</th>\n",
       "    </tr>\n",
       "  </thead>\n",
       "  <tbody>\n",
       "    <tr>\n",
       "      <th>count</th>\n",
       "      <td>27.000000</td>\n",
       "      <td>27.000000</td>\n",
       "      <td>27.000000</td>\n",
       "      <td>27.000000</td>\n",
       "    </tr>\n",
       "    <tr>\n",
       "      <th>mean</th>\n",
       "      <td>2.481481</td>\n",
       "      <td>83.555556</td>\n",
       "      <td>83.740741</td>\n",
       "      <td>131.925926</td>\n",
       "    </tr>\n",
       "    <tr>\n",
       "      <th>std</th>\n",
       "      <td>1.014145</td>\n",
       "      <td>11.112479</td>\n",
       "      <td>11.002072</td>\n",
       "      <td>15.531422</td>\n",
       "    </tr>\n",
       "    <tr>\n",
       "      <th>min</th>\n",
       "      <td>1.000000</td>\n",
       "      <td>47.000000</td>\n",
       "      <td>45.000000</td>\n",
       "      <td>111.000000</td>\n",
       "    </tr>\n",
       "    <tr>\n",
       "      <th>25%</th>\n",
       "      <td>2.000000</td>\n",
       "      <td>79.000000</td>\n",
       "      <td>78.000000</td>\n",
       "      <td>122.500000</td>\n",
       "    </tr>\n",
       "    <tr>\n",
       "      <th>50%</th>\n",
       "      <td>3.000000</td>\n",
       "      <td>87.000000</td>\n",
       "      <td>87.000000</td>\n",
       "      <td>130.000000</td>\n",
       "    </tr>\n",
       "    <tr>\n",
       "      <th>75%</th>\n",
       "      <td>3.000000</td>\n",
       "      <td>91.500000</td>\n",
       "      <td>91.000000</td>\n",
       "      <td>138.000000</td>\n",
       "    </tr>\n",
       "    <tr>\n",
       "      <th>max</th>\n",
       "      <td>4.000000</td>\n",
       "      <td>96.000000</td>\n",
       "      <td>98.000000</td>\n",
       "      <td>181.000000</td>\n",
       "    </tr>\n",
       "  </tbody>\n",
       "</table>\n",
       "</div>"
      ],
      "text/plain": [
       "       mcu_phase  tomato_meter  audience_score  movie_duration\n",
       "count  27.000000     27.000000       27.000000       27.000000\n",
       "mean    2.481481     83.555556       83.740741      131.925926\n",
       "std     1.014145     11.112479       11.002072       15.531422\n",
       "min     1.000000     47.000000       45.000000      111.000000\n",
       "25%     2.000000     79.000000       78.000000      122.500000\n",
       "50%     3.000000     87.000000       87.000000      130.000000\n",
       "75%     3.000000     91.500000       91.000000      138.000000\n",
       "max     4.000000     96.000000       98.000000      181.000000"
      ]
     },
     "execution_count": 6,
     "metadata": {},
     "output_type": "execute_result"
    }
   ],
   "source": [
    "marvel_movies.describe()"
   ]
  },
  {
   "cell_type": "markdown",
   "id": "e2a5bc4c-7afd-4b65-b55f-4c5a62e086cd",
   "metadata": {
    "papermill": {
     "duration": 0.045137,
     "end_time": "2022-05-04T13:03:30.803256",
     "exception": false,
     "start_time": "2022-05-04T13:03:30.758119",
     "status": "completed"
    },
    "tags": []
   },
   "source": [
    "#### Are there any missing values?"
   ]
  },
  {
   "cell_type": "code",
   "execution_count": 7,
   "id": "0ca32c7c-d833-488a-b9e1-4c9ddaf74a65",
   "metadata": {
    "papermill": {
     "duration": 0.057162,
     "end_time": "2022-05-04T13:03:30.906786",
     "exception": false,
     "start_time": "2022-05-04T13:03:30.849624",
     "status": "completed"
    },
    "tags": []
   },
   "outputs": [
    {
     "data": {
      "text/plain": [
       "movie_title             False\n",
       "mcu_phase               False\n",
       "release_date            False\n",
       "tomato_meter            False\n",
       "audience_score          False\n",
       "movie_duration          False\n",
       "production_budget       False\n",
       "opening_weekend         False\n",
       "domestic_box_office     False\n",
       "worldwide_box_office    False\n",
       "dtype: bool"
      ]
     },
     "execution_count": 7,
     "metadata": {},
     "output_type": "execute_result"
    }
   ],
   "source": [
    "marvel_movies.isna().any()"
   ]
  },
  {
   "cell_type": "markdown",
   "id": "9fcf79b0-daaa-4596-b04c-b7c82d83484b",
   "metadata": {
    "papermill": {
     "duration": 0.047297,
     "end_time": "2022-05-04T13:03:31.000855",
     "exception": false,
     "start_time": "2022-05-04T13:03:30.953558",
     "status": "completed"
    },
    "tags": []
   },
   "source": [
    "#### What are each columns datatypes?"
   ]
  },
  {
   "cell_type": "code",
   "execution_count": 8,
   "id": "50be9241-08f9-4c96-ac3f-07ac9904c7eb",
   "metadata": {
    "papermill": {
     "duration": 0.057214,
     "end_time": "2022-05-04T13:03:31.104388",
     "exception": false,
     "start_time": "2022-05-04T13:03:31.047174",
     "status": "completed"
    },
    "tags": []
   },
   "outputs": [
    {
     "data": {
      "text/plain": [
       "movie_title             object\n",
       "mcu_phase                int64\n",
       "release_date            object\n",
       "tomato_meter             int64\n",
       "audience_score           int64\n",
       "movie_duration           int64\n",
       "production_budget       object\n",
       "opening_weekend         object\n",
       "domestic_box_office     object\n",
       "worldwide_box_office    object\n",
       "dtype: object"
      ]
     },
     "execution_count": 8,
     "metadata": {},
     "output_type": "execute_result"
    }
   ],
   "source": [
    "marvel_movies.dtypes"
   ]
  },
  {
   "cell_type": "markdown",
   "id": "bd0e76f5-81b2-428f-88f7-0c3a072795c9",
   "metadata": {
    "papermill": {
     "duration": 0.047581,
     "end_time": "2022-05-04T13:03:31.199017",
     "exception": false,
     "start_time": "2022-05-04T13:03:31.151436",
     "status": "completed"
    },
    "tags": []
   },
   "source": [
    "#### Converting the budgets from objects into number "
   ]
  },
  {
   "cell_type": "code",
   "execution_count": 9,
   "id": "524ef2f9-4133-4d0b-8a15-8a6b9205c824",
   "metadata": {
    "papermill": {
     "duration": 0.060668,
     "end_time": "2022-05-04T13:03:31.306376",
     "exception": false,
     "start_time": "2022-05-04T13:03:31.245708",
     "status": "completed"
    },
    "tags": []
   },
   "outputs": [],
   "source": [
    "marvel_movies['production_budget'] = marvel_movies['production_budget'].str.split(\n",
    "    ',').str.join(\"\").astype(float)\n",
    "marvel_movies['opening_weekend'] = marvel_movies['opening_weekend'].str.split(\n",
    "    ',').str.join(\"\").astype(float)\n",
    "marvel_movies['domestic_box_office'] = marvel_movies['domestic_box_office'].str.split(\n",
    "    ',').str.join(\"\").astype(float)\n",
    "marvel_movies['worldwide_box_office'] = marvel_movies['worldwide_box_office'].str.split(\n",
    "    ',').str.join(\"\").astype(float)\n"
   ]
  },
  {
   "cell_type": "markdown",
   "id": "9f179db5-aad8-4f5b-80f9-ede63c6270dd",
   "metadata": {
    "papermill": {
     "duration": 0.045976,
     "end_time": "2022-05-04T13:03:31.398376",
     "exception": false,
     "start_time": "2022-05-04T13:03:31.352400",
     "status": "completed"
    },
    "tags": []
   },
   "source": [
    "#### Converting Release date to datetime object."
   ]
  },
  {
   "cell_type": "code",
   "execution_count": 10,
   "id": "76ffdf51-cd79-4db9-b95d-ce3e4f3b3cd5",
   "metadata": {
    "papermill": {
     "duration": 0.06363,
     "end_time": "2022-05-04T13:03:31.508085",
     "exception": false,
     "start_time": "2022-05-04T13:03:31.444455",
     "status": "completed"
    },
    "tags": []
   },
   "outputs": [],
   "source": [
    "marvel_movies.release_date = pd.to_datetime(marvel_movies.release_date)"
   ]
  },
  {
   "cell_type": "markdown",
   "id": "368728b3-80d7-4e76-ae33-addf2e3e0bb6",
   "metadata": {
    "papermill": {
     "duration": 0.045815,
     "end_time": "2022-05-04T13:03:31.599940",
     "exception": false,
     "start_time": "2022-05-04T13:03:31.554125",
     "status": "completed"
    },
    "tags": []
   },
   "source": [
    "#### Does the data contain any duplicate rows?"
   ]
  },
  {
   "cell_type": "code",
   "execution_count": 11,
   "id": "dbca3b8e-f841-4357-b102-16cc288c9394",
   "metadata": {
    "papermill": {
     "duration": 0.060453,
     "end_time": "2022-05-04T13:03:31.706455",
     "exception": false,
     "start_time": "2022-05-04T13:03:31.646002",
     "status": "completed"
    },
    "tags": []
   },
   "outputs": [
    {
     "data": {
      "text/plain": [
       "False"
      ]
     },
     "execution_count": 11,
     "metadata": {},
     "output_type": "execute_result"
    }
   ],
   "source": [
    "marvel_movies.duplicated().any()"
   ]
  },
  {
   "cell_type": "markdown",
   "id": "79a34442-4208-427e-817d-e4927226cb13",
   "metadata": {
    "papermill": {
     "duration": 0.054258,
     "end_time": "2022-05-04T13:03:31.808050",
     "exception": false,
     "start_time": "2022-05-04T13:03:31.753792",
     "status": "completed"
    },
    "tags": []
   },
   "source": [
    "## Data Visualization"
   ]
  },
  {
   "cell_type": "markdown",
   "id": "1912a0c0-e518-4da9-afa5-a05b85894c0e",
   "metadata": {
    "papermill": {
     "duration": 0.057976,
     "end_time": "2022-05-04T13:03:37.819994",
     "exception": false,
     "start_time": "2022-05-04T13:03:37.762018",
     "status": "completed"
    },
    "tags": []
   },
   "source": [
    "### How long were the movies?"
   ]
  },
  {
   "cell_type": "code",
   "execution_count": 12,
   "id": "10c8e0dd",
   "metadata": {
    "papermill": {
     "duration": 0.557208,
     "end_time": "2022-05-04T13:03:38.434675",
     "exception": false,
     "start_time": "2022-05-04T13:03:37.877467",
     "status": "completed"
    },
    "tags": []
   },
   "outputs": [
    {
     "data": {
      "text/plain": [
       "<seaborn.axisgrid.FacetGrid at 0x2092c83b880>"
      ]
     },
     "execution_count": 12,
     "metadata": {},
     "output_type": "execute_result"
    },
    {
     "data": {
      "image/png": "[encoded data removed]",
      "text/plain": [
       "<Figure size 583.025x576 with 1 Axes>"
      ]
     },
     "metadata": {
      "needs_background": "light"
     },
     "output_type": "display_data"
    }
   ],
   "source": [
    "sns.displot(data=marvel_movies, x='movie_duration', hue='mcu_phase', kind='kde',\n",
    "            fill=True, palette=sns.color_palette('bright')[:4], height=8, aspect=0.9)\n"
   ]
  },
  {
   "cell_type": "markdown",
   "id": "fdab3156-aff0-4c78-95c9-922bf645be1e",
   "metadata": {
    "papermill": {
     "duration": 0.05843,
     "end_time": "2022-05-04T13:03:38.551724",
     "exception": false,
     "start_time": "2022-05-04T13:03:38.493294",
     "status": "completed"
    },
    "tags": []
   },
   "source": [
    "#### Have the movies gotten longer?"
   ]
  },
  {
   "cell_type": "code",
   "execution_count": 13,
   "id": "21913df5",
   "metadata": {
    "papermill": {
     "duration": 0.773688,
     "end_time": "2022-05-04T13:03:39.384203",
     "exception": false,
     "start_time": "2022-05-04T13:03:38.610515",
     "status": "completed"
    },
    "tags": []
   },
   "outputs": [
    {
     "data": {
      "text/plain": [
       "<AxesSubplot:xlabel='movie_title', ylabel='movie_duration'>"
      ]
     },
     "execution_count": 13,
     "metadata": {},
     "output_type": "execute_result"
    },
    {
     "data": {
      "image/png": "[encoded data removed]",
      "text/plain": [
       "<Figure size 1440x576 with 1 Axes>"
      ]
     },
     "metadata": {
      "needs_background": "light"
     },
     "output_type": "display_data"
    }
   ],
   "source": [
    "\n",
    "plt.figure(figsize=(20, 8))\n",
    "plt.xticks(rotation=90)\n",
    "sns.regplot(x=marvel_movies.index, y=\"movie_duration\", data=marvel_movies)\n",
    "sns.scatterplot(data=marvel_movies, x=\"movie_title\",\n",
    "                y=\"movie_duration\", hue=\"mcu_phase\", palette=sns.color_palette('bright')[:4])\n"
   ]
  }
 ],
 "metadata": {
  "kernelspec": {
   "display_name": "Python 3 (ipykernel)",
   "language": "python",
   "name": "python3"
  },
  "language_info": {
   "codemirror_mode": {
    "name": "ipython",
    "version": 3
   },
   "file_extension": ".py",
   "mimetype": "text/x-python",
   "name": "python",
   "nbconvert_exporter": "python",
   "pygments_lexer": "ipython3",
   "version": "3.9.12"
  }
 },
 "nbformat": 4,
 "nbformat_minor": 5
}
