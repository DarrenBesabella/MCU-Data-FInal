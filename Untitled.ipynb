{
 "cells": [
  {
   "cell_type": "code",
   "execution_count": 1,
   "id": "d761abd4-7162-40f1-87cf-2a726ffc4922",
   "metadata": {},
   "outputs": [
    {
     "name": "stdout",
     "output_type": "stream",
     "text": [
      "Requirement already satisfied: pygal_maps_world in c:\\users\\darre\\appdata\\roaming\\python\\python39\\site-packages (1.0.2)\n",
      "Requirement already satisfied: pygal>=1.9.9 in c:\\users\\darre\\appdata\\roaming\\python\\python39\\site-packages (from pygal_maps_world) (3.0.0)\n",
      "Note: you may need to restart the kernel to use updated packages.\n"
     ]
    }
   ],
   "source": [
    "pip install --user pygal_maps_world"
   ]
  },
  {
   "cell_type": "code",
   "execution_count": 2,
   "id": "db84220e-fdc9-4908-b50b-55234e1188f2",
   "metadata": {},
   "outputs": [],
   "source": [
    "from pygal.maps.world import World\n",
    "wm = World()\n",
    "wm.force_uri_protocol = 'http'\n",
    "wm.title = 'North America'\n",
    "wm.add('North America', ['ca', 'mx', 'us'])\n",
    "wm.render_to_file('north_america.svg')"
   ]
  },
  {
   "cell_type": "code",
   "execution_count": 3,
   "id": "3a40351b-6d1e-4230-be29-fe25be68365c",
   "metadata": {},
   "outputs": [],
   "source": [
    "from pygal.maps.world import World\n",
    "populations = {\n",
    " 'ca': 34126000,\n",
    " 'us': 309349000,\n",
    " 'mx': 113423000,\n",
    " }\n",
    "wm = World()\n",
    "wm.force_uri_protocol = 'http'\n",
    "wm.title = 'Population of North America'\n",
    "wm.add('North America', populations)\n",
    "wm.render_to_file('na_populations.svg')"
   ]
  },
  {
   "cell_type": "code",
   "execution_count": 4,
   "id": "300e83d0-63e8-44cd-8602-bf9b84ad8c6f",
   "metadata": {},
   "outputs": [
    {
     "name": "stdout",
     "output_type": "stream",
     "text": [
      "Requirement already satisfied: chart-studio in c:\\users\\darre\\anaconda3\\lib\\site-packages (1.1.0)\n",
      "Requirement already satisfied: retrying>=1.3.3 in c:\\users\\darre\\anaconda3\\lib\\site-packages (from chart-studio) (1.3.3)\n",
      "Requirement already satisfied: requests in c:\\users\\darre\\anaconda3\\lib\\site-packages (from chart-studio) (2.27.1)\n",
      "Requirement already satisfied: six in c:\\users\\darre\\anaconda3\\lib\\site-packages (from chart-studio) (1.16.0)\n",
      "Requirement already satisfied: plotly in c:\\users\\darre\\anaconda3\\lib\\site-packages (from chart-studio) (5.6.0)\n",
      "Requirement already satisfied: tenacity>=6.2.0 in c:\\users\\darre\\anaconda3\\lib\\site-packages (from plotly->chart-studio) (8.0.1)\n",
      "Requirement already satisfied: idna<4,>=2.5 in c:\\users\\darre\\anaconda3\\lib\\site-packages (from requests->chart-studio) (3.3)\n",
      "Requirement already satisfied: urllib3<1.27,>=1.21.1 in c:\\users\\darre\\anaconda3\\lib\\site-packages (from requests->chart-studio) (1.26.9)\n",
      "Requirement already satisfied: certifi>=2017.4.17 in c:\\users\\darre\\anaconda3\\lib\\site-packages (from requests->chart-studio) (2021.10.8)\n",
      "Requirement already satisfied: charset-normalizer~=2.0.0 in c:\\users\\darre\\anaconda3\\lib\\site-packages (from requests->chart-studio) (2.0.4)\n",
      "Note: you may need to restart the kernel to use updated packages.\n"
     ]
    }
   ],
   "source": [
    "pip install chart-studio"
   ]
  },
  {
   "cell_type": "code",
   "execution_count": null,
   "id": "f9aecabb-b978-4262-bc44-443a88df9e19",
   "metadata": {},
   "outputs": [],
   "source": []
  }
 ],
 "metadata": {
  "kernelspec": {
   "display_name": "Python 3 (ipykernel)",
   "language": "python",
   "name": "python3"
  },
  "language_info": {
   "codemirror_mode": {
    "name": "ipython",
    "version": 3
   },
   "file_extension": ".py",
   "mimetype": "text/x-python",
   "name": "python",
   "nbconvert_exporter": "python",
   "pygments_lexer": "ipython3",
   "version": "3.9.12"
  }
 },
 "nbformat": 4,
 "nbformat_minor": 5
}
